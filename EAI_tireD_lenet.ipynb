{
  "cells": [
    {
      "cell_type": "code",
      "source": [
        "from google.colab import drive\n",
        "drive.mount('/content/drive')"
      ],
      "metadata": {
        "id": "rSmQVlHz4Qx2",
        "colab": {
          "base_uri": "https://localhost:8080/"
        },
        "outputId": "4efa1e1a-f49f-42e9-ed91-4467d82c3e28"
      },
      "id": "rSmQVlHz4Qx2",
      "execution_count": 2,
      "outputs": [
        {
          "output_type": "stream",
          "name": "stdout",
          "text": [
            "Drive already mounted at /content/drive; to attempt to forcibly remount, call drive.mount(\"/content/drive\", force_remount=True).\n"
          ]
        }
      ]
    },
    {
      "cell_type": "code",
      "source": [
        "import pandas as pd"
      ],
      "metadata": {
        "id": "UaTG2nlP5G3G"
      },
      "id": "UaTG2nlP5G3G",
      "execution_count": 3,
      "outputs": []
    },
    {
      "cell_type": "code",
      "source": [
        "%cd \"/content/drive/MyDrive/AI임베디드\""
      ],
      "metadata": {
        "colab": {
          "base_uri": "https://localhost:8080/"
        },
        "id": "mjWNdLT_5ksZ",
        "outputId": "2b0c53c3-ba8e-4f41-aeda-86db214d5560"
      },
      "id": "mjWNdLT_5ksZ",
      "execution_count": 4,
      "outputs": [
        {
          "output_type": "stream",
          "name": "stdout",
          "text": [
            "/content/drive/MyDrive/AI임베디드\n"
          ]
        }
      ]
    },
    {
      "cell_type": "code",
      "source": [
        "import cv2\n",
        "import os\n",
        "import numpy as np\n",
        "\n",
        "# Set the path to the directory containing the JPG images\n",
        "directory_path_good = \"canny_good/\"\n",
        "directory_path_bad=\"canny_bad/\"\n",
        "# Initialize an empty NumPy array to store the image data\n",
        "image_data_good = np.zeros((200, 480, 640, 1), dtype=np.float32)\n",
        "image_data_bad = np.zeros((200, 480, 640, 1), dtype=np.float32)\n",
        "\n",
        "# Loop through each image in the directory\n",
        "for i in range(100):\n",
        "    # Construct the file path for the current image\n",
        "    file_path_good1 = os.path.join(directory_path_good, f\"car_{i}.jpg\")#good tire\n",
        "    file_path_bad1 = os.path.join(directory_path_bad, f\"car_{i}.jpg\")#severe worn out tire\n",
        "    file_path_good2 = os.path.join(directory_path_good, f\"canny_good_{i}.jpg\")#good tire\n",
        "    file_path_bad2 = os.path.join(directory_path_bad, f\"canny_bad_{i}.jpg\")#partial worn out tire\n",
        "\n",
        "    img_good1 = cv2.imread(file_path_good1, cv2.IMREAD_GRAYSCALE)\n",
        "    img_bad1 = cv2.imread(file_path_bad1, cv2.IMREAD_GRAYSCALE)\n",
        "    img_good2 = cv2.imread(file_path_good2, cv2.IMREAD_GRAYSCALE)\n",
        "    img_bad2 = cv2.imread(file_path_bad2, cv2.IMREAD_GRAYSCALE)\n",
        "\n",
        "    image_data_good[i, :, :, 0] = img_good1.astype(np.float32) / 255.0\n",
        "    image_data_bad[i, :, :, 0] = img_bad1.astype(np.float32) / 255.0\n",
        "    image_data_good[i+100, :, :, 0] = img_good2.astype(np.float32) / 255.0\n",
        "    image_data_bad[i+100, :, :, 0] = img_bad2.astype(np.float32) / 255.0\n",
        "\n",
        "\n",
        "\n",
        "\n",
        "\n",
        "\n",
        "\n",
        "\n",
        "\n",
        "\n",
        "\n",
        "# Print the shape of the resulting image data\n",
        "print(\"Shape of the image data:\", image_data_good.shape)\n",
        "print(\"Shape of the image data:\", image_data_bad.shape)"
      ],
      "metadata": {
        "colab": {
          "base_uri": "https://localhost:8080/"
        },
        "id": "A1fMyjsA5K9H",
        "outputId": "b6b23197-b855-44d9-9894-7f324cdc5908"
      },
      "id": "A1fMyjsA5K9H",
      "execution_count": 5,
      "outputs": [
        {
          "output_type": "stream",
          "name": "stdout",
          "text": [
            "Shape of the image data: (200, 480, 640, 1)\n",
            "Shape of the image data: (200, 480, 640, 1)\n"
          ]
        }
      ]
    },
    {
      "cell_type": "code",
      "source": [
        "images = np.vstack((image_data_good,image_data_bad))\n",
        "images.shape"
      ],
      "metadata": {
        "colab": {
          "base_uri": "https://localhost:8080/"
        },
        "id": "hAOnb0RA_S1V",
        "outputId": "1fc0b407-82fc-471f-d4b2-9ec616556d2d"
      },
      "id": "hAOnb0RA_S1V",
      "execution_count": 6,
      "outputs": [
        {
          "output_type": "execute_result",
          "data": {
            "text/plain": [
              "(400, 480, 640, 1)"
            ]
          },
          "metadata": {},
          "execution_count": 6
        }
      ]
    },
    {
      "cell_type": "code",
      "source": [
        "image_label_good=np.hstack((np.ones((200,1)),np.zeros((200,1))))\n",
        "image_label_bad = np.hstack((np.zeros((200,1)),np.ones((200,1))))\n",
        "\n",
        "labels=np.vstack((image_label_good,image_label_bad))\n",
        "print(labels.shape)"
      ],
      "metadata": {
        "colab": {
          "base_uri": "https://localhost:8080/"
        },
        "id": "xuE7qEaK9caJ",
        "outputId": "b4c28153-b1e7-4116-a8ca-410617167f59"
      },
      "id": "xuE7qEaK9caJ",
      "execution_count": 7,
      "outputs": [
        {
          "output_type": "stream",
          "name": "stdout",
          "text": [
            "(400, 2)\n"
          ]
        }
      ]
    },
    {
      "cell_type": "code",
      "source": [
        "from sklearn.model_selection import train_test_split\n",
        "X_train, X_test, y_train, y_test = train_test_split(images, labels, test_size=0.2, random_state=42, shuffle=True)"
      ],
      "metadata": {
        "id": "fzXx30pg-8eo"
      },
      "id": "fzXx30pg-8eo",
      "execution_count": 8,
      "outputs": []
    },
    {
      "cell_type": "code",
      "execution_count": 9,
      "id": "c1dc8f34",
      "metadata": {
        "id": "c1dc8f34"
      },
      "outputs": [],
      "source": [
        "# Define a model\n",
        "import tensorflow as tf\n",
        "import numpy as np\n",
        "from tensorflow.keras import layers\n",
        "from tensorflow.keras.datasets import mnist\n",
        "from tensorflow.keras.utils import to_categorical\n",
        "class mnist_lenet(tf.keras.Model):\n",
        "    def __init__(self):\n",
        "        super(mnist_lenet, self).__init__()\n",
        "        self.conv1 = layers.Conv2D(filters=10, kernel_size=[3,3], input_shape = (640,480,1), activation= 'relu')\n",
        "        self.pool1 = layers.MaxPooling2D(2, 2)\n",
        "        self.conv2 = layers.Conv2D(filters=20, kernel_size=[3,3], activation= 'relu')\n",
        "        self.pool2 = layers.MaxPooling2D(2, 2)\n",
        "        self.conv3 = layers.Conv2D(filters=30, kernel_size=[3,3], activation= 'relu')\n",
        "        self.flat = layers.Flatten()\n",
        "        self.dense1 = layers.Dense(64, activation='relu')\n",
        "        self.dense2 = layers.Dense(2, activation='softmax')\n",
        "\n",
        "\n",
        "    def call(self, x):\n",
        "        net = self.conv1(x)\n",
        "        net = self.pool1(net)\n",
        "        net = self.conv2(net)\n",
        "        net = self.pool2(net)\n",
        "        net = self.conv3(net)\n",
        "        net = self.flat(net)\n",
        "        net = self.dense1(net)\n",
        "        net = self.dense2(net)\n",
        "        return net"
      ]
    },
    {
      "cell_type": "code",
      "execution_count": 10,
      "id": "bef7a74d",
      "metadata": {
        "colab": {
          "base_uri": "https://localhost:8080/"
        },
        "id": "bef7a74d",
        "outputId": "3ad1204b-a65d-4039-db70-370c4b7e84f2"
      },
      "outputs": [
        {
          "output_type": "stream",
          "name": "stdout",
          "text": [
            "Epoch 1/5\n",
            "320/320 [==============================] - 253s 783ms/step - loss: 0.3245 - accuracy: 0.9531\n",
            "Epoch 2/5\n",
            "320/320 [==============================] - 234s 732ms/step - loss: 0.0014 - accuracy: 1.0000\n",
            "Epoch 3/5\n",
            "320/320 [==============================] - 229s 716ms/step - loss: 2.7481e-05 - accuracy: 1.0000\n",
            "Epoch 4/5\n",
            "320/320 [==============================] - 225s 704ms/step - loss: 1.4795e-05 - accuracy: 1.0000\n",
            "Epoch 5/5\n",
            "320/320 [==============================] - 223s 696ms/step - loss: 7.5837e-06 - accuracy: 1.0000\n",
            "Model: \"mnist_lenet\"\n",
            "_________________________________________________________________\n",
            " Layer (type)                Output Shape              Param #   \n",
            "=================================================================\n",
            " conv2d (Conv2D)             multiple                  100       \n",
            "                                                                 \n",
            " max_pooling2d (MaxPooling2  multiple                  0         \n",
            " D)                                                              \n",
            "                                                                 \n",
            " conv2d_1 (Conv2D)           multiple                  1820      \n",
            "                                                                 \n",
            " max_pooling2d_1 (MaxPoolin  multiple                  0         \n",
            " g2D)                                                            \n",
            "                                                                 \n",
            " conv2d_2 (Conv2D)           multiple                  5430      \n",
            "                                                                 \n",
            " flatten (Flatten)           multiple                  0         \n",
            "                                                                 \n",
            " dense (Dense)               multiple                  34744384  \n",
            "                                                                 \n",
            " dense_1 (Dense)             multiple                  130       \n",
            "                                                                 \n",
            "=================================================================\n",
            "Total params: 34751864 (132.57 MB)\n",
            "Trainable params: 34751864 (132.57 MB)\n",
            "Non-trainable params: 0 (0.00 Byte)\n",
            "_________________________________________________________________\n"
          ]
        }
      ],
      "source": [
        "# Train & save model in frozen(.pb) format.\n",
        "\n",
        "my_model = mnist_lenet()\n",
        "my_model.compile(loss='categorical_crossentropy', optimizer='adam', metrics=['accuracy'])\n",
        "my_model.fit(X_train, y_train, batch_size=1, epochs=5, verbose=1)\n",
        "my_model.summary()\n"
      ]
    },
    {
      "cell_type": "code",
      "source": [
        "from sklearn.metrics import confusion_matrix, accuracy_score, recall_score, f1_score\n",
        "from keras.utils import to_categorical\n",
        "# Predictions on the test set\n",
        "y_pred = my_model.predict(X_test)\n",
        "\n",
        "# Convert probabilities to binary predictions (0 or 1)\n",
        "y_pred_binary = (y_pred > 0.5).astype(int)\n",
        "\n",
        "# Evaluate the model\n",
        "conf_matrix = confusion_matrix(y_test.argmax(axis=1), y_pred_binary.argmax(axis=1))\n",
        "accuracy = accuracy_score(y_test.argmax(axis=1), y_pred_binary.argmax(axis=1))\n",
        "recall = recall_score(y_test.argmax(axis=1), y_pred_binary.argmax(axis=1), average='binary')\n",
        "f1 = f1_score(y_test.argmax(axis=1), y_pred_binary.argmax(axis=1), average='binary')\n",
        "\n",
        "print(\"Confusion Matrix:\")\n",
        "print(conf_matrix)\n",
        "print(\"Accuracy:\", accuracy)\n",
        "print(\"Recall:\", recall)\n",
        "print(\"F1 Score:\", f1)"
      ],
      "metadata": {
        "colab": {
          "base_uri": "https://localhost:8080/"
        },
        "id": "a9inF3f6FRZM",
        "outputId": "d6560edf-8542-4fdf-ba5a-3b046724abcb"
      },
      "id": "a9inF3f6FRZM",
      "execution_count": 12,
      "outputs": [
        {
          "output_type": "stream",
          "name": "stdout",
          "text": [
            "3/3 [==============================] - 16s 4s/step\n",
            "Confusion Matrix:\n",
            "[[44  0]\n",
            " [ 0 36]]\n",
            "Accuracy: 1.0\n",
            "Recall: 1.0\n",
            "F1 Score: 1.0\n"
          ]
        }
      ]
    },
    {
      "cell_type": "markdown",
      "source": [
        "임의의 이미지 불러와서 추론하기"
      ],
      "metadata": {
        "id": "X1kN3irHLWG6"
      },
      "id": "X1kN3irHLWG6"
    },
    {
      "cell_type": "code",
      "source": [
        "import cv2\n",
        "import os\n",
        "import numpy as np\n",
        "import tensorflow as tf\n",
        "my_model=my_model\n",
        "directory=os.path.join(\"canny_good/car_50.jpg\")\n",
        "img_input = cv2.imread(directory, cv2.IMREAD_GRAYSCALE)\n",
        "\n",
        "img_input = img_input.astype(np.float32)/255.0\n",
        "img_input = np.reshape(img_input, (1, 480, 640, 1))\n",
        "# img_input = pd.DataFrame(img_input)\n",
        "# img_input.describe()\n",
        "prediction = my_model.predict(img_input)\n",
        "\n",
        "threshold = 0.5  # Adjust this threshold as needed\n",
        "binary_prediction = (prediction > threshold).astype(int)\n",
        "\n",
        "print(\"Raw Prediction:\", prediction)\n",
        "print(\"Binary Prediction:\", binary_prediction)\n",
        "\n",
        "if (binary_prediction[0][0]==1):\n",
        "    print(\"Label: 0\",)\n",
        "else:\n",
        "    print(\"Label: 1\")"
      ],
      "metadata": {
        "colab": {
          "base_uri": "https://localhost:8080/"
        },
        "id": "ob6FT3g3INDw",
        "outputId": "b7362738-2ec8-476d-b9f3-0292de3ebae6"
      },
      "id": "ob6FT3g3INDw",
      "execution_count": 14,
      "outputs": [
        {
          "output_type": "stream",
          "name": "stdout",
          "text": [
            "1/1 [==============================] - 0s 332ms/step\n",
            "Raw Prediction: [[9.9999964e-01 3.3879024e-07]]\n",
            "Binary Prediction: [[1 0]]\n",
            "Label: 0\n"
          ]
        }
      ]
    },
    {
      "cell_type": "code",
      "source": [
        "!pwd"
      ],
      "metadata": {
        "colab": {
          "base_uri": "https://localhost:8080/"
        },
        "id": "A8BSP02UGRP7",
        "outputId": "7b752973-5926-4e43-cf9d-f30cca594b28"
      },
      "id": "A8BSP02UGRP7",
      "execution_count": 15,
      "outputs": [
        {
          "output_type": "stream",
          "name": "stdout",
          "text": [
            "/content/drive/MyDrive/AI임베디드\n"
          ]
        }
      ]
    },
    {
      "cell_type": "code",
      "source": [
        "# my_model.save(\"./tireD_lenet2_test\")\n",
        "my_model.save(\"./tireD_lenet2\")"
      ],
      "metadata": {
        "id": "2hkdZ52hGK7C"
      },
      "id": "2hkdZ52hGK7C",
      "execution_count": null,
      "outputs": []
    },
    {
      "cell_type": "code",
      "execution_count": null,
      "id": "0787c567",
      "metadata": {
        "id": "0787c567"
      },
      "outputs": [],
      "source": [
        "# Load model and convert it for TensorFlow Lite (.tflite format)\n",
        "\n",
        "import tensorflow as tf\n",
        "import numpy as np\n",
        "\n",
        "model_path = \"./tireD_lenet2\"\n",
        "converter = tf.lite.TFLiteConverter.from_saved_model(model_path)\n",
        "tflite_model = converter.convert()\n"
      ]
    },
    {
      "cell_type": "code",
      "execution_count": null,
      "id": "a0c14fa6",
      "metadata": {
        "id": "a0c14fa6",
        "colab": {
          "base_uri": "https://localhost:8080/"
        },
        "outputId": "7d538fe1-6dec-426e-e10c-86abb958e620"
      },
      "outputs": [
        {
          "output_type": "execute_result",
          "data": {
            "text/plain": [
              "139011356"
            ]
          },
          "metadata": {},
          "execution_count": 15
        }
      ],
      "source": [
        "import pathlib\n",
        "\n",
        "# Create folder to save model.\n",
        "tflite_models_dir = pathlib.Path(\"./tmp/tireD_lenet2/\")\n",
        "tflite_models_dir.mkdir(exist_ok=True, parents=True)\n",
        "\n",
        "# Save the unquantized/float model:\n",
        "tflite_model_file = tflite_models_dir/\"tireD_lenet2.tflite\"\n",
        "tflite_model_file.write_bytes(tflite_model)"
      ]
    },
    {
      "cell_type": "code",
      "execution_count": null,
      "id": "f1e9b137",
      "metadata": {
        "id": "f1e9b137"
      },
      "outputs": [],
      "source": []
    }
  ],
  "metadata": {
    "kernelspec": {
      "display_name": "Python 3",
      "name": "python3"
    },
    "language_info": {
      "codemirror_mode": {
        "name": "ipython",
        "version": 3
      },
      "file_extension": ".py",
      "mimetype": "text/x-python",
      "name": "python",
      "nbconvert_exporter": "python",
      "pygments_lexer": "ipython3",
      "version": "3.8.11"
    },
    "colab": {
      "provenance": []
    }
  },
  "nbformat": 4,
  "nbformat_minor": 5
}